{
 "cells": [
  {
   "cell_type": "code",
   "execution_count": 1,
   "metadata": {},
   "outputs": [],
   "source": [
    "import numpy as np"
   ]
  },
  {
   "cell_type": "markdown",
   "metadata": {},
   "source": [
    "# 1 Crear un arreglo de 20 elementos."
   ]
  },
  {
   "cell_type": "code",
   "execution_count": 2,
   "metadata": {},
   "outputs": [
    {
     "name": "stdout",
     "output_type": "stream",
     "text": [
      "[ 0  1  2  3  4  5  6  7  8  9 10 11 12 13 14 15 16 17 18 19]\n"
     ]
    }
   ],
   "source": [
    "\n",
    "arreglo_veinte = np.arange(20)\n",
    "print(arreglo_veinte)"
   ]
  },
  {
   "cell_type": "markdown",
   "metadata": {},
   "source": [
    "# 2  Cambiar la dimensión del arreglo previamente creado."
   ]
  },
  {
   "cell_type": "code",
   "execution_count": 3,
   "metadata": {},
   "outputs": [
    {
     "data": {
      "text/plain": [
       "array([[ 0,  1,  2,  3,  4],\n",
       "       [ 5,  6,  7,  8,  9],\n",
       "       [10, 11, 12, 13, 14],\n",
       "       [15, 16, 17, 18, 19]])"
      ]
     },
     "execution_count": 3,
     "metadata": {},
     "output_type": "execute_result"
    }
   ],
   "source": [
    "arreglo_veinte.reshape(4,5)"
   ]
  },
  {
   "cell_type": "markdown",
   "metadata": {},
   "source": [
    "# 3 Inprimir los números pares en el arreglo anterior."
   ]
  },
  {
   "cell_type": "code",
   "execution_count": 4,
   "metadata": {},
   "outputs": [
    {
     "name": "stdout",
     "output_type": "stream",
     "text": [
      "[ 0  2  4  6  8 10 12 14 16 18]\n"
     ]
    }
   ],
   "source": [
    "\n",
    "indice_pares = (arreglo_veinte % 2==0)\n",
    "print(arreglo_veinte[indice_pares])"
   ]
  },
  {
   "cell_type": "markdown",
   "metadata": {},
   "source": [
    "# 4 Obtener la suma de todos los números pares del arreglo"
   ]
  },
  {
   "cell_type": "code",
   "execution_count": 5,
   "metadata": {},
   "outputs": [
    {
     "data": {
      "text/plain": [
       "90"
      ]
     },
     "execution_count": 5,
     "metadata": {},
     "output_type": "execute_result"
    }
   ],
   "source": [
    "\n",
    "arreglo_pares = arreglo_veinte[indice_pares]\n",
    "arreglo_pares.sum()"
   ]
  },
  {
   "cell_type": "markdown",
   "metadata": {},
   "source": [
    "# 5 Obtener el seno, coseno y tangente  de los elementos del primer arreglo creado"
   ]
  },
  {
   "cell_type": "code",
   "execution_count": 6,
   "metadata": {},
   "outputs": [
    {
     "data": {
      "text/plain": [
       "array([ 0.        ,  0.84147098,  0.90929743,  0.14112001, -0.7568025 ,\n",
       "       -0.95892427, -0.2794155 ,  0.6569866 ,  0.98935825,  0.41211849,\n",
       "       -0.54402111, -0.99999021, -0.53657292,  0.42016704,  0.99060736,\n",
       "        0.65028784, -0.28790332, -0.96139749, -0.75098725,  0.14987721])"
      ]
     },
     "execution_count": 6,
     "metadata": {},
     "output_type": "execute_result"
    }
   ],
   "source": [
    "np.sin(arreglo_veinte)"
   ]
  },
  {
   "cell_type": "code",
   "execution_count": 7,
   "metadata": {},
   "outputs": [
    {
     "data": {
      "text/plain": [
       "array([ 1.        ,  0.54030231, -0.41614684, -0.9899925 , -0.65364362,\n",
       "        0.28366219,  0.96017029,  0.75390225, -0.14550003, -0.91113026,\n",
       "       -0.83907153,  0.0044257 ,  0.84385396,  0.90744678,  0.13673722,\n",
       "       -0.75968791, -0.95765948, -0.27516334,  0.66031671,  0.98870462])"
      ]
     },
     "execution_count": 7,
     "metadata": {},
     "output_type": "execute_result"
    }
   ],
   "source": [
    "np.cos(arreglo_veinte)"
   ]
  },
  {
   "cell_type": "code",
   "execution_count": 8,
   "metadata": {},
   "outputs": [
    {
     "data": {
      "text/plain": [
       "array([ 0.00000000e+00,  1.55740772e+00, -2.18503986e+00, -1.42546543e-01,\n",
       "        1.15782128e+00, -3.38051501e+00, -2.91006191e-01,  8.71447983e-01,\n",
       "       -6.79971146e+00, -4.52315659e-01,  6.48360827e-01, -2.25950846e+02,\n",
       "       -6.35859929e-01,  4.63021133e-01,  7.24460662e+00, -8.55993401e-01,\n",
       "        3.00632242e-01,  3.49391565e+00, -1.13731371e+00,  1.51589471e-01])"
      ]
     },
     "execution_count": 8,
     "metadata": {},
     "output_type": "execute_result"
    }
   ],
   "source": [
    "np.tan(arreglo_veinte)"
   ]
  },
  {
   "cell_type": "markdown",
   "metadata": {},
   "source": [
    "# 6 Crear un arreglo de tragos"
   ]
  },
  {
   "cell_type": "code",
   "execution_count": 11,
   "metadata": {},
   "outputs": [],
   "source": [
    "arreglo_tragos = np.array(['Cantaclaro','José Cuervo','Under','Sky','Ruskaya','Azteca','Antioqueño','Tropico',\n",
    "                  'Norteño', 'Paisa','Zhumir','Pedrito Coco','Chivas','Jack Daniels','Punta','Bacardi',\n",
    "                  '100 fuegos','Grants','El Charro','Abuelo','Legendario','Jaggermeister','Bombay','Absolute'] )"
   ]
  },
  {
   "cell_type": "code",
   "execution_count": 17,
   "metadata": {},
   "outputs": [
    {
     "data": {
      "text/plain": [
       "(24,)"
      ]
     },
     "execution_count": 17,
     "metadata": {},
     "output_type": "execute_result"
    }
   ],
   "source": [
    "arreglo_tragos.shape"
   ]
  },
  {
   "cell_type": "code",
   "execution_count": 18,
   "metadata": {},
   "outputs": [
    {
     "name": "stdout",
     "output_type": "stream",
     "text": [
      "[['Cantaclaro' 'José Cuervo']\n",
      " ['Under' 'Sky']\n",
      " ['Ruskaya' 'Azteca']\n",
      " ['Antioqueño' 'Tropico']\n",
      " ['Norteño' 'Paisa']\n",
      " ['Zhumir' 'Pedrito Coco']\n",
      " ['Chivas' 'Jack Daniels']\n",
      " ['Punta' 'Bacardi']\n",
      " ['100 fuegos' 'Grants']\n",
      " ['El Charro' 'Abuelo']\n",
      " ['Legendario' 'Jaggermeister']\n",
      " ['Bombay' 'Absolute']]\n"
     ]
    }
   ],
   "source": [
    "arreglo_tragos_1 = arreglo_licores.reshape(12,2)\n",
    "print(arreglo_licores_1)"
   ]
  },
  {
   "cell_type": "code",
   "execution_count": 15,
   "metadata": {},
   "outputs": [
    {
     "name": "stdout",
     "output_type": "stream",
     "text": [
      "[[['Cantaclaro' 'José Cuervo']\n",
      "  ['Under' 'Sky']]\n",
      "\n",
      " [['Ruskaya' 'Azteca']\n",
      "  ['Antioqueño' 'Tropico']]\n",
      "\n",
      " [['Norteño' 'Paisa']\n",
      "  ['Zhumir' 'Pedrito Coco']]\n",
      "\n",
      " [['Chivas' 'Jack Daniels']\n",
      "  ['Punta' 'Bacardi']]\n",
      "\n",
      " [['100 fuegos' 'Grants']\n",
      "  ['El Charro' 'Abuelo']]\n",
      "\n",
      " [['Legendario' 'Jaggermeister']\n",
      "  ['Bombay' 'Absolute']]]\n"
     ]
    }
   ],
   "source": [
    "\n",
    "arreglo_tragos_2 = arreglo_licores.reshape(6,2,2)\n",
    "print(arreglo_licores_2)"
   ]
  },
  {
   "cell_type": "code",
   "execution_count": 19,
   "metadata": {},
   "outputs": [
    {
     "name": "stdout",
     "output_type": "stream",
     "text": [
      "[[[['Cantaclaro']\n",
      "   ['José Cuervo']]\n",
      "\n",
      "  [['Under']\n",
      "   ['Sky']]]\n",
      "\n",
      "\n",
      " [[['Ruskaya']\n",
      "   ['Azteca']]\n",
      "\n",
      "  [['Antioqueño']\n",
      "   ['Tropico']]]\n",
      "\n",
      "\n",
      " [[['Norteño']\n",
      "   ['Paisa']]\n",
      "\n",
      "  [['Zhumir']\n",
      "   ['Pedrito Coco']]]\n",
      "\n",
      "\n",
      " [[['Chivas']\n",
      "   ['Jack Daniels']]\n",
      "\n",
      "  [['Punta']\n",
      "   ['Bacardi']]]\n",
      "\n",
      "\n",
      " [[['100 fuegos']\n",
      "   ['Grants']]\n",
      "\n",
      "  [['El Charro']\n",
      "   ['Abuelo']]]\n",
      "\n",
      "\n",
      " [[['Legendario']\n",
      "   ['Jaggermeister']]\n",
      "\n",
      "  [['Bombay']\n",
      "   ['Absolute']]]]\n"
     ]
    }
   ],
   "source": [
    "arreglo_tragos_3 = arreglo_licores.reshape(6,2,2,1)\n",
    "print(arreglo_licores_3)"
   ]
  },
  {
   "cell_type": "code",
   "execution_count": 21,
   "metadata": {},
   "outputs": [],
   "source": [
    "tragos_mitad1, tragos_mitad2 = np.split(arreglo_tragos,2)"
   ]
  },
  {
   "cell_type": "code",
   "execution_count": 22,
   "metadata": {},
   "outputs": [
    {
     "data": {
      "text/plain": [
       "array(['Cantaclaro', 'José Cuervo', 'Under', 'Sky', 'Ruskaya', 'Azteca',\n",
       "       'Antioqueño', 'Tropico', 'Norteño', 'Paisa', 'Zhumir',\n",
       "       'Pedrito Coco'], dtype='<U13')"
      ]
     },
     "execution_count": 22,
     "metadata": {},
     "output_type": "execute_result"
    }
   ],
   "source": [
    "tragos_mitad1"
   ]
  },
  {
   "cell_type": "code",
   "execution_count": null,
   "metadata": {},
   "outputs": [],
   "source": []
  }
 ],
 "metadata": {
  "kernelspec": {
   "display_name": "Python 3",
   "language": "python",
   "name": "python3"
  },
  "language_info": {
   "codemirror_mode": {
    "name": "ipython",
    "version": 3
   },
   "file_extension": ".py",
   "mimetype": "text/x-python",
   "name": "python",
   "nbconvert_exporter": "python",
   "pygments_lexer": "ipython3",
   "version": "3.7.3"
  }
 },
 "nbformat": 4,
 "nbformat_minor": 2
}
