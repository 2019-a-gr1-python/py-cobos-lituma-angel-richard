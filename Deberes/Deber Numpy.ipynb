{
 "cells": [
  {
   "cell_type": "markdown",
   "metadata": {},
   "source": [
    "# Deber numpy"
   ]
  },
  {
   "cell_type": "code",
   "execution_count": 2,
   "metadata": {},
   "outputs": [],
   "source": [
    "import numpy as np\n",
    "arreglo_frutas = np.array([\n",
    "    ['Piña','Manzana','Pera','Melon'],\n",
    "    ['Pera','Uva','Naranja','Papaya'],\n",
    "    ['Frutilla','Platano','Granadilla','Sandia']\n",
    "])"
   ]
  },
  {
   "cell_type": "code",
   "execution_count": 3,
   "metadata": {},
   "outputs": [],
   "source": [
    "arreglo_frutas3d = np.array([\n",
    "    [['Piña', 'Manzana'],\n",
    "     ['Pera', 'Melon'],\n",
    "     ['Uvilla', 'Durazno']],\n",
    "\n",
    "    [['Pera', 'Uva'],\n",
    "     ['Naranja', 'Papaya'],\n",
    "     ['Coco', 'Cereza']],\n",
    "\n",
    "    [['Frutilla', 'Platano'],\n",
    "     ['Granadilla', 'Sandia'],\n",
    "     ['Tamarindo', 'Toronja']]\n",
    "])"
   ]
  },
  {
   "cell_type": "code",
   "execution_count": 4,
   "metadata": {},
   "outputs": [
    {
     "name": "stdout",
     "output_type": "stream",
     "text": [
      "[[['Piña' 'Manzana']\n",
      "  ['Pera' 'Melon']\n",
      "  ['Uvilla' 'Durazno']]\n",
      "\n",
      " [['Pera' 'Uva']\n",
      "  ['Naranja' 'Papaya']\n",
      "  ['Coco' 'Cereza']]\n",
      "\n",
      " [['Frutilla' 'Platano']\n",
      "  ['Granadilla' 'Sandia']\n",
      "  ['Tamarindo' 'Toronja']]]\n"
     ]
    }
   ],
   "source": [
    "print(arreglo_frutas3d)\n",
    "arreglox = np.array([\n",
    "    [0, 0, 2]\n",
    "\n",
    "])"
   ]
  },
  {
   "cell_type": "code",
   "execution_count": 6,
   "metadata": {},
   "outputs": [],
   "source": [
    "arregloy = np.array([\n",
    "    [0, 0, 1]\n",
    "])"
   ]
  },
  {
   "cell_type": "code",
   "execution_count": 9,
   "metadata": {},
   "outputs": [],
   "source": [
    "arregloz = np.array([\n",
    "    [0, 0, 1]])"
   ]
  },
  {
   "cell_type": "code",
   "execution_count": 10,
   "metadata": {},
   "outputs": [
    {
     "name": "stdout",
     "output_type": "stream",
     "text": [
      "Seleccion dentro de las dimensiones [['Piña' 'Piña' 'Sandia']]\n",
      "['Piña' 'Manzana' 'Pera' 'Melon' 'Pera' 'Uva' 'Naranja' 'Papaya'\n",
      " 'Frutilla' 'Platano' 'Granadilla' 'Sandia']\n",
      "(array([0, 0, 1, 1, 2], dtype=int64), array([0, 1, 0, 1, 0], dtype=int64), array([0, 0, 0, 1, 1], dtype=int64))\n",
      "['Piña' 'Pera' 'Pera' 'Papaya' 'Platano']\n",
      "['Piña' 'Pera' 'Pera' 'Papaya' 'Platano']\n"
     ]
    }
   ],
   "source": [
    "print('Seleccion dentro de las dimensiones', arreglo_frutas3d[arreglox,arregloy,arregloz])\n",
    "\n",
    "frutas1d = arreglo_frutas.flatten()\n",
    "print(frutas1d)\n",
    "print(np.where(arreglo_frutas3d.astype('<U1') == 'P'))\n",
    "print(frutas1d[np.where(frutas1d.astype('<U1') == 'P')])\n",
    "print(arreglo_frutas3d[np.where(arreglo_frutas3d.astype('<U1') == 'P')])"
   ]
  },
  {
   "cell_type": "code",
   "execution_count": null,
   "metadata": {},
   "outputs": [],
   "source": []
  }
 ],
 "metadata": {
  "kernelspec": {
   "display_name": "Python 3",
   "language": "python",
   "name": "python3"
  },
  "language_info": {
   "codemirror_mode": {
    "name": "ipython",
    "version": 3
   },
   "file_extension": ".py",
   "mimetype": "text/x-python",
   "name": "python",
   "nbconvert_exporter": "python",
   "pygments_lexer": "ipython3",
   "version": "3.7.3"
  }
 },
 "nbformat": 4,
 "nbformat_minor": 2
}
